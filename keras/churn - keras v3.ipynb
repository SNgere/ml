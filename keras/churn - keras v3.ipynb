{
 "cells": [
  {
   "cell_type": "markdown",
   "metadata": {},
   "source": [
    "# <span style=\"font-family:'cursive';\">A Customer Churn Prediction Model</span>"
   ]
  },
  {
   "cell_type": "markdown",
   "metadata": {},
   "source": [
    "<img src=\"222.PNG\" alt=\"Alt text\" width=\"500\"/>\n"
   ]
  },
  {
   "cell_type": "markdown",
   "metadata": {},
   "source": [
    "## "
   ]
  },
  {
   "cell_type": "markdown",
   "metadata": {},
   "source": [
    "### <span style=\"font-family:'cursive';\"> What is customer churn and how can it be reduced? </span>\n",
    "\n",
    "In today's highly competitive business landscape, the ability to identify and retain at-risk customers can significantly impact a company's profitability and long-term success\n",
    "\n",
    "\n",
    "**Customer churn** is when customers <u>cease</u> their relationship with a company or business, which can occur for various reasons such as dissatisfaction with services, competitive offers, or changing needs\n",
    "\n",
    "High churn rates can lead to revenue loss and increased customer acquisition costs. It's within this context that this project addresses the task of developing a churn prediction mechanism \n",
    "\n",
    "The outcome of this notebook is a churn prediction model to **forecast** which customers are likely to stop doing business\n",
    "\n",
    "The data was provided by PWC"
   ]
  },
  {
   "cell_type": "markdown",
   "metadata": {},
   "source": [
    "# <span style=\"font-family:'cursive';\">Research Questions</span>"
   ]
  },
  {
   "cell_type": "markdown",
   "metadata": {},
   "source": [
    "* What machine learning model is most effective in accurately predicting customer churn? \n",
    "\n",
    "* How well does the model generalize to new data after deployment?\n",
    "\n",
    "* Which features are most indicative of potential churn?\n",
    "\n",
    "* How effective are intervention strategies?\n",
    "\n"
   ]
  },
  {
   "cell_type": "markdown",
   "metadata": {},
   "source": [
    "# <span style=\"font-family:'cursive';\">Assumptions</span>"
   ]
  },
  {
   "cell_type": "markdown",
   "metadata": {},
   "source": [
    "* This approach assumes that the provided features are relevant to predicting customer churn and that these features are not highly correlated\n",
    "\n",
    "* Additionally, it assumes **churn rate stability** over the analyzed period, given the absence of specific date or time data for churn events."
   ]
  },
  {
   "cell_type": "markdown",
   "metadata": {},
   "source": [
    "### <span style=\"font-family:'cursive';\"> Library Imports </span>\n",
    "  "
   ]
  },
  {
   "cell_type": "code",
   "execution_count": 40,
   "metadata": {
    "button": false,
    "new_sheet": false,
    "run_control": {
     "read_only": false
    }
   },
   "outputs": [],
   "source": [
    "# data handling\n",
    "import pandas as pd\n",
    "import numpy as np\n",
    "from tabulate import tabulate\n",
    "from IPython.display import Image\n",
    "\n",
    "# data visualization\n",
    "import matplotlib.pyplot as plt\n",
    "import plotly.express as px\n",
    "%matplotlib inline\n",
    "\n",
    "# data preprocessing\n",
    "from sklearn.model_selection import train_test_split\n",
    "from sklearn.preprocessing import LabelEncoder, OneHotEncoder, OrdinalEncoder, StandardScaler\n",
    "\n",
    "from sklearn.compose import make_column_transformer\n",
    "\n",
    "# model evaluation\n",
    "from sklearn.metrics import roc_curve, auc, confusion_matrix, ConfusionMatrixDisplay"
   ]
  },
  {
   "cell_type": "code",
   "execution_count": 36,
   "metadata": {
    "button": false,
    "new_sheet": false,
    "run_control": {
     "read_only": false
    }
   },
   "outputs": [
    {
     "data": {
      "text/html": [
       "<div>\n",
       "<style scoped>\n",
       "    .dataframe tbody tr th:only-of-type {\n",
       "        vertical-align: middle;\n",
       "    }\n",
       "\n",
       "    .dataframe tbody tr th {\n",
       "        vertical-align: top;\n",
       "    }\n",
       "\n",
       "    .dataframe thead th {\n",
       "        text-align: right;\n",
       "    }\n",
       "</style>\n",
       "<table border=\"1\" class=\"dataframe\">\n",
       "  <thead>\n",
       "    <tr style=\"text-align: right;\">\n",
       "      <th></th>\n",
       "      <th>customerID</th>\n",
       "      <th>gender</th>\n",
       "      <th>SeniorCitizen</th>\n",
       "      <th>Partner</th>\n",
       "      <th>Dependents</th>\n",
       "      <th>tenure</th>\n",
       "      <th>PhoneService</th>\n",
       "      <th>MultipleLines</th>\n",
       "      <th>InternetService</th>\n",
       "      <th>OnlineSecurity</th>\n",
       "      <th>...</th>\n",
       "      <th>StreamingTV</th>\n",
       "      <th>StreamingMovies</th>\n",
       "      <th>Contract</th>\n",
       "      <th>PaperlessBilling</th>\n",
       "      <th>PaymentMethod</th>\n",
       "      <th>MonthlyCharges</th>\n",
       "      <th>TotalCharges</th>\n",
       "      <th>numAdminTickets</th>\n",
       "      <th>numTechTickets</th>\n",
       "      <th>Churn</th>\n",
       "    </tr>\n",
       "  </thead>\n",
       "  <tbody>\n",
       "    <tr>\n",
       "      <th>0</th>\n",
       "      <td>7590-VHVEG</td>\n",
       "      <td>Female</td>\n",
       "      <td>0.0</td>\n",
       "      <td>Yes</td>\n",
       "      <td>No</td>\n",
       "      <td>1.0</td>\n",
       "      <td>No</td>\n",
       "      <td>No phone service</td>\n",
       "      <td>DSL</td>\n",
       "      <td>No</td>\n",
       "      <td>...</td>\n",
       "      <td>No</td>\n",
       "      <td>No</td>\n",
       "      <td>Month-to-month</td>\n",
       "      <td>Yes</td>\n",
       "      <td>Electronic check</td>\n",
       "      <td>29.85</td>\n",
       "      <td>29.85</td>\n",
       "      <td>0.0</td>\n",
       "      <td>0.0</td>\n",
       "      <td>No</td>\n",
       "    </tr>\n",
       "  </tbody>\n",
       "</table>\n",
       "<p>1 rows × 23 columns</p>\n",
       "</div>"
      ],
      "text/plain": [
       "   customerID  gender  SeniorCitizen Partner Dependents  tenure PhoneService  \\\n",
       "0  7590-VHVEG  Female            0.0     Yes         No     1.0           No   \n",
       "\n",
       "      MultipleLines InternetService OnlineSecurity  ... StreamingTV  \\\n",
       "0  No phone service             DSL             No  ...          No   \n",
       "\n",
       "  StreamingMovies        Contract PaperlessBilling     PaymentMethod  \\\n",
       "0              No  Month-to-month              Yes  Electronic check   \n",
       "\n",
       "  MonthlyCharges TotalCharges numAdminTickets  numTechTickets  Churn  \n",
       "0          29.85        29.85             0.0             0.0     No  \n",
       "\n",
       "[1 rows x 23 columns]"
      ]
     },
     "execution_count": 36,
     "metadata": {},
     "output_type": "execute_result"
    }
   ],
   "source": [
    "df = pd.read_csv(\"churn.csv\")\n",
    "df = df.dropna()\n",
    "df.head(1)"
   ]
  },
  {
   "cell_type": "markdown",
   "metadata": {},
   "source": [
    "# <span style=\"font-family:'cursive';\">Description of data</span>\n"
   ]
  },
  {
   "cell_type": "markdown",
   "metadata": {},
   "source": [
    "### <span style=\"font-family:'cursive'; \">   Data discovery - What do the columns in the provided data represent? </span>"
   ]
  },
  {
   "cell_type": "markdown",
   "metadata": {},
   "source": [
    "| Description           | Value |\n",
    "|-----------------------|-------|\n",
    "| Number of rows        | 7032  |\n",
    "| Number of columns     | 23    |\n",
    "| Number of string columns | 17 |\n",
    "| Number of float64 columns | 6  |\n"
   ]
  },
  {
   "cell_type": "markdown",
   "metadata": {},
   "source": [
    "| Column           | Explanation                                                |\n",
    "|------------------|-----------------------------------------------------------|\n",
    "| Churn            | Represents whether the customer has churned (left the service) or not |\n",
    "| SeniorCitizen    | Indicates if the customer is a senior citizen (0 for non-senior, 1 for senior) |\n",
    "| tenure           | Represents the duration of customer tenure (in months) |\n",
    "| MonthlyCharges   | Monthly charges for the customer |\n",
    "| TotalCharges     | Total charges for the customer |\n",
    "| numAdminTickets  | Number of administrative tickets or requests for non-technical reasons e.g. billing |\n",
    "| numTechTickets   | Number of technical support tickets or requests for technical reasons e.g service disruption |\n",
    "| customerID       | Unique customer identifier |\n",
    "| gender           | Gender of the customer (Female, Male)  |\n",
    "| Partner          | Indicates if the customer has a partner (Yes, No) |\n",
    "| Dependents       | Indicates if the customer has dependents (Yes, No) |\n",
    "| PhoneService     | Indicates if the customer has phone service (Yes, No) |\n",
    "| MultipleLines    | Indicates if the customer has multiple phone lines |\n",
    "| InternetService  | Type of internet service the customer has |\n",
    "| OnlineSecurity   | Indicates if the customer has online security service |\n",
    "| OnlineBackup     | Indicates if the customer has online backup service |\n",
    "| DeviceProtection | Indicates if the customer has device protection service |\n",
    "| TechSupport      | Indicates if the customer has technical support service |\n",
    "| StreamingTV      | Indicates if the customer has streaming TV service |\n",
    "| StreamingMovies  | Indicates if the customer has streaming movie service |\n",
    "| Contract         | Type of contract the customer has (e.g., month-to-month, one-year, two-year) |\n",
    "| PaperlessBilling | Indicates if the customer uses paperless billing (Yes, No) |\n",
    "| PaymentMethod    | Method of payment chosen by the customer e.g electronic check |\n"
   ]
  },
  {
   "cell_type": "markdown",
   "metadata": {},
   "source": [
    "#### <span style=\"font-family:'cursive';\"> What are the unique values associated with the less obvious columns in the dataset </span>\n",
    "  "
   ]
  },
  {
   "cell_type": "code",
   "execution_count": 3,
   "metadata": {},
   "outputs": [
    {
     "name": "stdout",
     "output_type": "stream",
     "text": [
      "+------------------+------------------------------------------------------------------------------------+\n",
      "| Column Name      | Unique Values                                                                      |\n",
      "+==================+====================================================================================+\n",
      "| MultipleLines    | No phone service, No, Yes                                                          |\n",
      "+------------------+------------------------------------------------------------------------------------+\n",
      "| InternetService  | DSL, Fiber optic, No                                                               |\n",
      "+------------------+------------------------------------------------------------------------------------+\n",
      "| OnlineSecurity   | No, Yes, No internet service                                                       |\n",
      "+------------------+------------------------------------------------------------------------------------+\n",
      "| OnlineBackup     | Yes, No, No internet service                                                       |\n",
      "+------------------+------------------------------------------------------------------------------------+\n",
      "| DeviceProtection | No, Yes, No internet service                                                       |\n",
      "+------------------+------------------------------------------------------------------------------------+\n",
      "| TechSupport      | No, Yes, No internet service                                                       |\n",
      "+------------------+------------------------------------------------------------------------------------+\n",
      "| StreamingTV      | No, Yes, No internet service                                                       |\n",
      "+------------------+------------------------------------------------------------------------------------+\n",
      "| StreamingMovies  | No, Yes, No internet service                                                       |\n",
      "+------------------+------------------------------------------------------------------------------------+\n",
      "| Contract         | Month-to-month, One year, Two year                                                 |\n",
      "+------------------+------------------------------------------------------------------------------------+\n",
      "| PaymentMethod    | Electronic check, Mailed check, Bank transfer (automatic), Credit card (automatic) |\n",
      "+------------------+------------------------------------------------------------------------------------+\n"
     ]
    }
   ],
   "source": [
    "columns = ['MultipleLines', 'InternetService', 'OnlineSecurity', 'OnlineBackup', 'DeviceProtection', 'TechSupport', 'StreamingTV', 'StreamingMovies', 'Contract', 'PaymentMethod']\n",
    "table = []\n",
    "\n",
    "for column in columns:\n",
    "    unique_values = df[column].unique()\n",
    "    table.append([column, \", \".join(map(str, unique_values))])\n",
    "\n",
    "headers = ['Column Name', 'Unique Values']\n",
    "print(tabulate(table, headers, tablefmt=\"grid\"))"
   ]
  },
  {
   "cell_type": "markdown",
   "metadata": {},
   "source": [
    "#### <span style=\"font-family:'cursive';\">What's the distribution of customer churn and non-churn counts?</span>\n",
    "  "
   ]
  },
  {
   "cell_type": "code",
   "execution_count": 4,
   "metadata": {},
   "outputs": [
    {
     "data": {
      "image/png": "[encoded data removed]",
      "text/plain": [
       "<Figure size 640x480 with 1 Axes>"
      ]
     },
     "metadata": {},
     "output_type": "display_data"
    }
   ],
   "source": [
    "churn_counts = df['Churn'].value_counts()\n",
    "bars = ['Not Churn', 'Churn']\n",
    "height = [churn_counts[0], churn_counts[1]]\n",
    "\n",
    "x_pos = range(len(bars))\n",
    "plt.bar(x_pos, height, color=(0.1, 0.1, 0.1, 0.1), edgecolor='maroon')\n",
    "plt.xlabel('Churn Status')\n",
    "plt.ylabel('Count')\n",
    "plt.xticks(x_pos, bars)\n",
    "plt.title('target distribution')\n",
    "plt.show()   "
   ]
  },
  {
   "cell_type": "markdown",
   "metadata": {},
   "source": [
    "## <span style=\"font-family:'cursive';\"> Data preprocessing </span>\n",
    "\n",
    "#### <span style=\"font-family:'cursive';\"> I) Are there any outliers in numerical columns? </span>\n",
    "\n",
    "Checking for outliers is essential to ensure that the model's predictive accuracy is not compromised by extreme values."
   ]
  },
  {
   "cell_type": "code",
   "execution_count": 5,
   "metadata": {},
   "outputs": [
    {
     "data": {
      "image/png": "[encoded data removed]",
      "text/plain": [
       "<Figure size 665x475 with 3 Axes>"
      ]
     },
     "metadata": {},
     "output_type": "display_data"
    }
   ],
   "source": [
    "numerical_columns = ['tenure', 'MonthlyCharges', 'TotalCharges']\n",
    "df2 = df[numerical_columns]\n",
    "\n",
    "fig, axs = plt.subplots(3, 1, dpi=95, figsize=(7, 5))\n",
    "i = 0\n",
    "for col in df2.columns:\n",
    "    axs[i].boxplot(df[col], vert=False)\n",
    "    axs[i].set_ylabel(col)\n",
    "    i += 1\n",
    "\n",
    "plt.suptitle('there are no outliers')\n",
    "plt.show()"
   ]
  },
  {
   "cell_type": "markdown",
   "metadata": {},
   "source": [
    "#### <span style=\"font-family:'Roboto Slab';\"> II) How is the target variable (churn column) label encoded? </span>"
   ]
  },
  {
   "cell_type": "code",
   "execution_count": 6,
   "metadata": {},
   "outputs": [],
   "source": [
    "X, Y = df.drop(columns = ['Churn','customerID']), df['Churn']\n",
    "\n",
    "label_encoder = LabelEncoder()\n",
    "y = label_encoder.fit_transform(Y)\n",
    "y = pd.Series(y)"
   ]
  },
  {
   "cell_type": "markdown",
   "metadata": {},
   "source": [
    "#### <span style=\"font-family:'cursive';\"> III) Train/test split  </span>"
   ]
  },
  {
   "cell_type": "code",
   "execution_count": 7,
   "metadata": {},
   "outputs": [],
   "source": [
    "X_train, X_test, y_train, y_test = train_test_split(X, y, test_size=0.2, random_state=4)"
   ]
  },
  {
   "cell_type": "markdown",
   "metadata": {},
   "source": [
    "#### <span style=\"font-family:'cursive';\"> IV)  Feature engineering </span>\n",
    "\n",
    "#### <span style=\"font-family:'cursive';\"> Why use make_column_transformer, ordinal encoder and onehot encoder?  </span>\n",
    "\n",
    "\n",
    "* Machine learning algorithms require data to be in a specific format and structure.  `make_column_transformer` tool simplifies feature engineering by efficiently managing various column types and their transformations, offering a convenient approach to prepare data.\n",
    "\n",
    "* Contract and SeniorCitizen columns are encoded using OrdinalEncoder because they represent categorical variables with an inherent order\n",
    "\n",
    "* The other categorical columns, which are binary or nominal, are encoded with OneHotEncoder, producing binary dummy variables while excluding the first category to prevent multicollinearity\n",
    "\n",
    "* remainder='passthrough' ensures that any columns not explicitly mentioned in the transformers are passed through without any changes. "
   ]
  },
  {
   "cell_type": "code",
   "execution_count": 8,
   "metadata": {},
   "outputs": [],
   "source": [
    "column_trans = make_column_transformer (\n",
    "    (OrdinalEncoder(), ['Contract', 'SeniorCitizen']),\n",
    "    (OneHotEncoder(drop='first'), ['gender', 'Partner', 'Dependents', 'PhoneService','PaperlessBilling','MultipleLines','InternetService','OnlineSecurity','OnlineBackup',\n",
    "                       'DeviceProtection','TechSupport','StreamingTV', 'StreamingMovies','PaymentMethod']),\n",
    "    (StandardScaler(), ['tenure', 'MonthlyCharges', 'TotalCharges']),\n",
    "    remainder='passthrough')\n",
    "\n",
    "X_train = column_trans.fit_transform(X_train)\n",
    "X_test = column_trans.transform(X_test)"
   ]
  },
  {
   "cell_type": "markdown",
   "metadata": {},
   "source": [
    "## "
   ]
  },
  {
   "cell_type": "markdown",
   "metadata": {},
   "source": [
    "### <span style=\"font-family:'cursive';\"> Objective - To build a churn prediction model to identify at-risk customers </span>\n",
    "  "
   ]
  },
  {
   "cell_type": "markdown",
   "metadata": {},
   "source": [
    "### <span style=\"font-family:'cursive';\"> Modelling </span>\n",
    "  "
   ]
  },
  {
   "cell_type": "code",
   "execution_count": 9,
   "metadata": {},
   "outputs": [],
   "source": [
    "from keras.models import Sequential\n",
    "from keras.optimizers import RMSprop, SGD, Adam, Adagrad\n",
    "from keras.layers import Dense, Dropout, BatchNormalization\n",
    "from keras.callbacks import EarlyStopping\n",
    "\n",
    "input_shape = X_train.shape[1]"
   ]
  },
  {
   "cell_type": "markdown",
   "metadata": {},
   "source": [
    "#### <span style=\"font-family:'cursive';\"> Quick overview of the Keras neural network architecture </span>\n",
    "  \n",
    "\n",
    "| Layer           | Neurons | Activation | BatchNorm | Dropout |\n",
    "|-----------------|-------|------------|-----------|---------|\n",
    "| Input           | -     | -          | -         | -       |\n",
    "| Hidden 1        | 384   | ReLU       | Yes       | 20%     |\n",
    "| Hidden 2        | 256   | ReLU       | Yes       | 30%     |\n",
    "| Hidden 3-6      | 64    | ReLU       | Yes       | 0%      |\n",
    "| Output          | 1     | Sigmoid    | -         | -       |"
   ]
  },
  {
   "cell_type": "markdown",
   "metadata": {},
   "source": [
    "| Configuration |                   |\n",
    "|-----------------------------|-------------------|\n",
    "| Optimizer              | SGD with lr=0.001               |\n",
    "|   Batch Size         | 64             |\n",
    "| Callback                | Early Stopping Patience 10               |\n",
    "\n"
   ]
  },
  {
   "cell_type": "code",
   "execution_count": 10,
   "metadata": {},
   "outputs": [],
   "source": [
    "def build_classification_model(input_shape):\n",
    "    model = Sequential()\n",
    "\n",
    "    model.add(Dense(units=384, activation='relu', input_shape=(input_shape,)))\n",
    "    model.add(BatchNormalization())\n",
    "    model.add(Dropout(rate=0.2))    \n",
    "    model.add(Dense(units=256, activation='relu'))\n",
    "    model.add(BatchNormalization())\n",
    "    model.add(Dropout(rate=0.3))\n",
    "    model.add(Dense(units=64, activation='relu'))\n",
    "    model.add(BatchNormalization())\n",
    "    model.add(Dropout(rate=0.0))\n",
    "    model.add(Dense(units=64, activation='relu'))\n",
    "    model.add(BatchNormalization())\n",
    "    model.add(Dropout(rate=0.0))\n",
    "    model.add(Dense(units=64, activation='relu'))\n",
    "    model.add(BatchNormalization())\n",
    "    model.add(Dropout(rate=0.0))\n",
    "    model.add(Dense(units=64, activation='relu'))\n",
    "    model.add(BatchNormalization())\n",
    "    model.add(Dropout(rate=0.0))\n",
    "\n",
    "    model.add(Dense(units=1, activation='sigmoid'))\n",
    "\n",
    "    optimizer = SGD(learning_rate=0.001)\n",
    "    model.compile(optimizer=optimizer, loss='binary_crossentropy', metrics=['accuracy'])\n",
    "\n",
    "    return model\n",
    "\n",
    "model = build_classification_model(input_shape)"
   ]
  },
  {
   "cell_type": "markdown",
   "metadata": {},
   "source": [
    "## <span style=\"font-family:'cursive';\"> Hyperparameter Tuning with Hyperopt </span>\n",
    "\n",
    "\n",
    "- Hyperopt is an open-source Python library for hyperparameter optimization "
   ]
  },
  {
   "cell_type": "code",
   "execution_count": 11,
   "metadata": {},
   "outputs": [
    {
     "name": "stdout",
     "output_type": "stream",
     "text": [
      "100%|██████████| 30/30 [05:40<00:00, 11.34s/trial, best loss: 0.13290691375732422]\n",
      "Best Hyperparameters: {'batch_size': 0, 'dropout': 0.26251054498785154, 'learning_rate': 0.35013255648244934, 'num_layers': 6, 'optimizer': 1, 'units': 3}\n",
      "Best Accuracy: 0.8670930862426758\n",
      "Best Loss: 0.13290691375732422\n"
     ]
    }
   ],
   "source": [
    "from hyperopt import fmin, tpe, hp, STATUS_OK, Trials\n",
    "\n",
    "space = {\n",
    "    'num_layers': hp.choice('num_layers', range(1, 10)),\n",
    "    'units': hp.choice('units', [32, 64, 128, 256, 512]),\n",
    "    'dropout': hp.uniform('dropout', 0, 1),\n",
    "    'optimizer': hp.choice('optimizer', ['adam', 'sgd', 'rmsprop']),\n",
    "    'learning_rate': hp.loguniform('learning_rate', np.log(0.001), np.log(1.0)), \n",
    "    'batch_size': hp.choice('batch_size', [8, 16, 32, 64, 128, 256, 512, 1024])\n",
    "}\n",
    "\n",
    "def objective(params):\n",
    "    model = Sequential()\n",
    "    for i in range(params['num_layers']):\n",
    "        model.add(Dense(units=params['units'], activation='relu'))\n",
    "        model.add(Dropout(params['dropout']))\n",
    "    model.add(Dense(units=1, activation='sigmoid'))\n",
    "    model.compile(optimizer=params['optimizer'], loss='binary_crossentropy', metrics=['accuracy'])\n",
    "    \n",
    "    model.fit(X_train, y_train, epochs=5, batch_size=params['batch_size'], validation_data=(X_test, y_test), verbose=0)\n",
    "    _, accuracy = model.evaluate(X_test, y_test, verbose=0)\n",
    "    return {'loss': 1 - accuracy, 'status': STATUS_OK, 'model': model}\n",
    "\n",
    "trials = Trials()\n",
    "best = fmin(fn=objective, space=space, algo=tpe.suggest, max_evals=30, trials=trials)\n",
    "\n",
    "best_model = trials.best_trial['result']['model']\n",
    "_, best_accuracy = best_model.evaluate(X_test, y_test, verbose=0)\n",
    "\n",
    "print(\"Best Hyperparameters:\", best)\n",
    "print(\"Best Accuracy:\", best_accuracy)\n",
    "print(\"Best Loss:\", trials.best_trial['result']['loss'])"
   ]
  },
  {
   "cell_type": "markdown",
   "metadata": {},
   "source": [
    "### <span style=\"font-family:'cursive';\"> Model Training </span>  "
   ]
  },
  {
   "cell_type": "code",
   "execution_count": 12,
   "metadata": {},
   "outputs": [
    {
     "name": "stdout",
     "output_type": "stream",
     "text": [
      "16/16 [==============================] - 0s 4ms/step - loss: 0.2918 - accuracy: 0.8740\n",
      "44/44 [==============================] - 0s 4ms/step - loss: 0.2914 - accuracy: 0.8607\n",
      "63/63 [==============================] - 0s 2ms/step - loss: 0.2857 - accuracy: 0.8760\n",
      "44/44 [==============================] - 0s 2ms/step - loss: 0.2920 - accuracy: 0.8621\n",
      "125/125 [==============================] - 0s 2ms/step - loss: 0.2738 - accuracy: 0.8780\n",
      "44/44 [==============================] - 0s 2ms/step - loss: 0.2893 - accuracy: 0.8614\n",
      "176/176 [==============================] - 0s 2ms/step - loss: 0.2672 - accuracy: 0.8823\n",
      "44/44 [==============================] - 0s 1ms/step - loss: 0.2891 - accuracy: 0.8607\n",
      "176/176 [==============================] - 0s 2ms/step - loss: 0.2748 - accuracy: 0.8795\n",
      "44/44 [==============================] - 0s 2ms/step - loss: 0.2990 - accuracy: 0.8621\n"
     ]
    }
   ],
   "source": [
    "monitor = EarlyStopping(monitor='val_loss', patience = 10)\n",
    "\n",
    "initial_weights = model.get_weights()\n",
    "train_accs = []\n",
    "test_accs = []\n",
    "training_sizes = np.array([500, 2000, 4000, 6000, 7000])\n",
    "\n",
    "for size in training_sizes:\n",
    "    X_train_frac, y_train_frac = X_train[:size], y_train[:size]\n",
    "\n",
    "    model.set_weights(initial_weights)\n",
    "    h2 = model.fit(X_train, y_train, validation_split = 0.3, epochs = 200, callbacks = monitor, validation_data = (X_test, y_test), verbose=0, batch_size= 64)\n",
    "\n",
    "    train_accs.append(model.evaluate(X_train_frac, y_train_frac)[1])\n",
    "    test_accs.append(model.evaluate(X_test, y_test)[1])"
   ]
  },
  {
   "cell_type": "markdown",
   "metadata": {},
   "source": [
    "## <span style=\"font-family:'cursive';\"> Evaluation </span>  \n",
    "\n",
    "### <span style=\"font-family:'cursive';\"> 1. Learning Curve Analysis </span>  "
   ]
  },
  {
   "cell_type": "code",
   "execution_count": 13,
   "metadata": {},
   "outputs": [
    {
     "data": {
      "image/png": "[encoded data removed]",
      "text/plain": [
       "<Figure size 1300x500 with 2 Axes>"
      ]
     },
     "metadata": {},
     "output_type": "display_data"
    }
   ],
   "source": [
    "def plot_learning_curve(history):\n",
    "    plt.figure(figsize=(13,5))\n",
    "\n",
    "    # Plot training & validation accuracy values\n",
    "    plt.subplot(1, 2, 1)\n",
    "    plt.plot(history.history['accuracy'])\n",
    "    plt.plot(history.history['val_accuracy'])\n",
    "    plt.title('Model Accuracy')\n",
    "    plt.xlabel('Epoch')\n",
    "    plt.ylabel('Accuracy')\n",
    "    plt.legend(['Train', 'Validation'], loc='lower right')\n",
    "    # plt.gca().spines['top'].set_visible(False)\n",
    "    # plt.gca().spines['right'].set_visible(False)\n",
    "    plt.text(0.56, 0.5, 'Final Accuracy - 86%', fontsize=13, color='green', transform=plt.gca().transAxes)\n",
    "\n",
    "    # Plot training &  loss values\n",
    "    plt.subplot(1, 2, 2)\n",
    "    plt.plot(history.history['loss'])\n",
    "    plt.plot(history.history['val_loss'])\n",
    "    plt.title('Model Loss')\n",
    "    plt.xlabel('Epoch')\n",
    "    plt.ylabel('Loss')\n",
    "    plt.legend(['Train', 'Validation'], loc='upper right')\n",
    "    # plt.gca().spines['top'].set_visible(False)\n",
    "    # plt.gca().spines['right'].set_visible(False)\n",
    "    plt.text(0.6, 0.5, 'Final Loss - 0.2983', fontsize=13, color='green', transform=plt.gca().transAxes)\n",
    "\n",
    "    plt.tight_layout()\n",
    "    plt.subplots_adjust(wspace=0.2)\n",
    "    plt.show()\n",
    "\n",
    "plot_learning_curve(h2)"
   ]
  },
  {
   "cell_type": "markdown",
   "metadata": {},
   "source": [
    "### <span style=\"font-family:'cursive';\"> 2. Would the model benefit from an increase in training data? </span>  "
   ]
  },
  {
   "cell_type": "code",
   "execution_count": 14,
   "metadata": {},
   "outputs": [
    {
     "data": {
      "image/png": "[encoded data removed]",
      "text/plain": [
       "<Figure size 1300x500 with 1 Axes>"
      ]
     },
     "metadata": {},
     "output_type": "display_data"
    }
   ],
   "source": [
    "def plot_results(train_accs,test_accs):\n",
    "  plt.figure(figsize=(13,5))\n",
    "  plt.plot(training_sizes, train_accs, 'o-', label=\"Training Accuracy\")\n",
    "  plt.plot(training_sizes, test_accs, 'o-', label=\"Test Accuracy\")\n",
    "  plt.title('Accuracy vs Number of training samples')\n",
    "  plt.xlabel('# of training samples')\n",
    "  plt.ylabel('Accuracy')\n",
    "  plt.legend(loc=\"best\")\n",
    "  plt.ylim(0.6, 1.0)  \n",
    "  plt.show()\n",
    "\n",
    "plot_results(train_accs, test_accs)"
   ]
  },
  {
   "cell_type": "markdown",
   "metadata": {},
   "source": [
    "### <span style=\"font-family:'cursive';\"> 3. Performance Analysis </span>  "
   ]
  },
  {
   "cell_type": "code",
   "execution_count": 15,
   "metadata": {},
   "outputs": [
    {
     "name": "stdout",
     "output_type": "stream",
     "text": [
      "44/44 [==============================] - 0s 2ms/step\n"
     ]
    },
    {
     "data": {
      "image/png": "[encoded data removed]",
      "text/plain": [
       "<Figure size 1300x500 with 3 Axes>"
      ]
     },
     "metadata": {},
     "output_type": "display_data"
    }
   ],
   "source": [
    "y_pred = model.predict(X_test)\n",
    "fpr, tpr, _ = roc_curve(y_test, y_pred)\n",
    "roc_auc = auc(fpr, tpr)\n",
    "\n",
    "fig, axs = plt.subplots(1, 2, figsize=(13, 5))\n",
    "\n",
    "# Plot ROC Curve\n",
    "axs[0].plot(fpr, tpr, color='red', lw=1.5, linestyle='--', label=f'ROC curve (AUC = {roc_auc:.2f})')\n",
    "axs[0].plot([0, 1], [0, 1], color='navy', lw=0.1, linestyle='--')\n",
    "axs[0].set_xlabel('False Positive Rate')\n",
    "axs[0].set_ylabel('True Positive Rate')\n",
    "axs[0].set_title('ROC Curve')\n",
    "axs[0].spines['top'].set_visible(False)\n",
    "axs[0].spines['right'].set_visible(False)\n",
    "axs[0].legend(loc='lower right')\n",
    "\n",
    "# Plot Confusion Matrix\n",
    "cm = confusion_matrix(y_test, y_pred.round())\n",
    "disp = ConfusionMatrixDisplay(confusion_matrix=cm, display_labels=['Not Churn', 'Churn'])\n",
    "disp.plot(ax=axs[1], cmap='Oranges', values_format='.0f')\n",
    "axs[1].set_title('Confusion Matrix')\n",
    "\n",
    "plt.subplots_adjust(wspace=0.8)\n",
    "plt.tight_layout(pad=2) \n",
    "plt.show()"
   ]
  },
  {
   "cell_type": "markdown",
   "metadata": {},
   "source": [
    "### <span style=\"font-family:'cursive';\"> 4. How does the model compare to baseline models? </span>  "
   ]
  },
  {
   "cell_type": "code",
   "execution_count": 35,
   "metadata": {},
   "outputs": [
    {
     "data": {
      "application/vnd.plotly.v1+json": {
       "config": {
        "plotlyServerURL": "https://plot.ly"
       },
       "data": [
        {
         "hovertemplate": "percentage=%{x}<br>model=%{y}<br>custom_labels=%{text}<extra></extra>",
         "legendgroup": "",
         "marker": {
          "color": "brown"
         },
         "name": "",
         "orientation": "h",
         "showlegend": false,
         "text": [
          0.3104,
          0.3093,
          0.2983
         ],
         "textinfo": "text",
         "type": "funnel",
         "x": [
          10,
          9,
          6
         ],
         "xaxis": "x",
         "y": [
          "Logistic Regression",
          "Random Forest",
          "Keras Neural Network"
         ],
         "yaxis": "y"
        }
       ],
       "layout": {
        "height": 400,
        "legend": {
         "tracegroupgap": 0
        },
        "template": {
         "data": {
          "bar": [
           {
            "error_x": {
             "color": "#2a3f5f"
            },
            "error_y": {
             "color": "#2a3f5f"
            },
            "marker": {
             "line": {
              "color": "#E5ECF6",
              "width": 0.5
             },
             "pattern": {
              "fillmode": "overlay",
              "size": 10,
              "solidity": 0.2
             }
            },
            "type": "bar"
           }
          ],
          "barpolar": [
           {
            "marker": {
             "line": {
              "color": "#E5ECF6",
              "width": 0.5
             },
             "pattern": {
              "fillmode": "overlay",
              "size": 10,
              "solidity": 0.2
             }
            },
            "type": "barpolar"
           }
          ],
          "carpet": [
           {
            "aaxis": {
             "endlinecolor": "#2a3f5f",
             "gridcolor": "white",
             "linecolor": "white",
             "minorgridcolor": "white",
             "startlinecolor": "#2a3f5f"
            },
            "baxis": {
             "endlinecolor": "#2a3f5f",
             "gridcolor": "white",
             "linecolor": "white",
             "minorgridcolor": "white",
             "startlinecolor": "#2a3f5f"
            },
            "type": "carpet"
           }
          ],
          "choropleth": [
           {
            "colorbar": {
             "outlinewidth": 0,
             "ticks": ""
            },
            "type": "choropleth"
           }
          ],
          "contour": [
           {
            "colorbar": {
             "outlinewidth": 0,
             "ticks": ""
            },
            "colorscale": [
             [
              0,
              "#0d0887"
             ],
             [
              0.1111111111111111,
              "#46039f"
             ],
             [
              0.2222222222222222,
              "#7201a8"
             ],
             [
              0.3333333333333333,
              "#9c179e"
             ],
             [
              0.4444444444444444,
              "#bd3786"
             ],
             [
              0.5555555555555556,
              "#d8576b"
             ],
             [
              0.6666666666666666,
              "#ed7953"
             ],
             [
              0.7777777777777778,
              "#fb9f3a"
             ],
             [
              0.8888888888888888,
              "#fdca26"
             ],
             [
              1,
              "#f0f921"
             ]
            ],
            "type": "contour"
           }
          ],
          "contourcarpet": [
           {
            "colorbar": {
             "outlinewidth": 0,
             "ticks": ""
            },
            "type": "contourcarpet"
           }
          ],
          "heatmap": [
           {
            "colorbar": {
             "outlinewidth": 0,
             "ticks": ""
            },
            "colorscale": [
             [
              0,
              "#0d0887"
             ],
             [
              0.1111111111111111,
              "#46039f"
             ],
             [
              0.2222222222222222,
              "#7201a8"
             ],
             [
              0.3333333333333333,
              "#9c179e"
             ],
             [
              0.4444444444444444,
              "#bd3786"
             ],
             [
              0.5555555555555556,
              "#d8576b"
             ],
             [
              0.6666666666666666,
              "#ed7953"
             ],
             [
              0.7777777777777778,
              "#fb9f3a"
             ],
             [
              0.8888888888888888,
              "#fdca26"
             ],
             [
              1,
              "#f0f921"
             ]
            ],
            "type": "heatmap"
           }
          ],
          "heatmapgl": [
           {
            "colorbar": {
             "outlinewidth": 0,
             "ticks": ""
            },
            "colorscale": [
             [
              0,
              "#0d0887"
             ],
             [
              0.1111111111111111,
              "#46039f"
             ],
             [
              0.2222222222222222,
              "#7201a8"
             ],
             [
              0.3333333333333333,
              "#9c179e"
             ],
             [
              0.4444444444444444,
              "#bd3786"
             ],
             [
              0.5555555555555556,
              "#d8576b"
             ],
             [
              0.6666666666666666,
              "#ed7953"
             ],
             [
              0.7777777777777778,
              "#fb9f3a"
             ],
             [
              0.8888888888888888,
              "#fdca26"
             ],
             [
              1,
              "#f0f921"
             ]
            ],
            "type": "heatmapgl"
           }
          ],
          "histogram": [
           {
            "marker": {
             "pattern": {
              "fillmode": "overlay",
              "size": 10,
              "solidity": 0.2
             }
            },
            "type": "histogram"
           }
          ],
          "histogram2d": [
           {
            "colorbar": {
             "outlinewidth": 0,
             "ticks": ""
            },
            "colorscale": [
             [
              0,
              "#0d0887"
             ],
             [
              0.1111111111111111,
              "#46039f"
             ],
             [
              0.2222222222222222,
              "#7201a8"
             ],
             [
              0.3333333333333333,
              "#9c179e"
             ],
             [
              0.4444444444444444,
              "#bd3786"
             ],
             [
              0.5555555555555556,
              "#d8576b"
             ],
             [
              0.6666666666666666,
              "#ed7953"
             ],
             [
              0.7777777777777778,
              "#fb9f3a"
             ],
             [
              0.8888888888888888,
              "#fdca26"
             ],
             [
              1,
              "#f0f921"
             ]
            ],
            "type": "histogram2d"
           }
          ],
          "histogram2dcontour": [
           {
            "colorbar": {
             "outlinewidth": 0,
             "ticks": ""
            },
            "colorscale": [
             [
              0,
              "#0d0887"
             ],
             [
              0.1111111111111111,
              "#46039f"
             ],
             [
              0.2222222222222222,
              "#7201a8"
             ],
             [
              0.3333333333333333,
              "#9c179e"
             ],
             [
              0.4444444444444444,
              "#bd3786"
             ],
             [
              0.5555555555555556,
              "#d8576b"
             ],
             [
              0.6666666666666666,
              "#ed7953"
             ],
             [
              0.7777777777777778,
              "#fb9f3a"
             ],
             [
              0.8888888888888888,
              "#fdca26"
             ],
             [
              1,
              "#f0f921"
             ]
            ],
            "type": "histogram2dcontour"
           }
          ],
          "mesh3d": [
           {
            "colorbar": {
             "outlinewidth": 0,
             "ticks": ""
            },
            "type": "mesh3d"
           }
          ],
          "parcoords": [
           {
            "line": {
             "colorbar": {
              "outlinewidth": 0,
              "ticks": ""
             }
            },
            "type": "parcoords"
           }
          ],
          "pie": [
           {
            "automargin": true,
            "type": "pie"
           }
          ],
          "scatter": [
           {
            "fillpattern": {
             "fillmode": "overlay",
             "size": 10,
             "solidity": 0.2
            },
            "type": "scatter"
           }
          ],
          "scatter3d": [
           {
            "line": {
             "colorbar": {
              "outlinewidth": 0,
              "ticks": ""
             }
            },
            "marker": {
             "colorbar": {
              "outlinewidth": 0,
              "ticks": ""
             }
            },
            "type": "scatter3d"
           }
          ],
          "scattercarpet": [
           {
            "marker": {
             "colorbar": {
              "outlinewidth": 0,
              "ticks": ""
             }
            },
            "type": "scattercarpet"
           }
          ],
          "scattergeo": [
           {
            "marker": {
             "colorbar": {
              "outlinewidth": 0,
              "ticks": ""
             }
            },
            "type": "scattergeo"
           }
          ],
          "scattergl": [
           {
            "marker": {
             "colorbar": {
              "outlinewidth": 0,
              "ticks": ""
             }
            },
            "type": "scattergl"
           }
          ],
          "scattermapbox": [
           {
            "marker": {
             "colorbar": {
              "outlinewidth": 0,
              "ticks": ""
             }
            },
            "type": "scattermapbox"
           }
          ],
          "scatterpolar": [
           {
            "marker": {
             "colorbar": {
              "outlinewidth": 0,
              "ticks": ""
             }
            },
            "type": "scatterpolar"
           }
          ],
          "scatterpolargl": [
           {
            "marker": {
             "colorbar": {
              "outlinewidth": 0,
              "ticks": ""
             }
            },
            "type": "scatterpolargl"
           }
          ],
          "scatterternary": [
           {
            "marker": {
             "colorbar": {
              "outlinewidth": 0,
              "ticks": ""
             }
            },
            "type": "scatterternary"
           }
          ],
          "surface": [
           {
            "colorbar": {
             "outlinewidth": 0,
             "ticks": ""
            },
            "colorscale": [
             [
              0,
              "#0d0887"
             ],
             [
              0.1111111111111111,
              "#46039f"
             ],
             [
              0.2222222222222222,
              "#7201a8"
             ],
             [
              0.3333333333333333,
              "#9c179e"
             ],
             [
              0.4444444444444444,
              "#bd3786"
             ],
             [
              0.5555555555555556,
              "#d8576b"
             ],
             [
              0.6666666666666666,
              "#ed7953"
             ],
             [
              0.7777777777777778,
              "#fb9f3a"
             ],
             [
              0.8888888888888888,
              "#fdca26"
             ],
             [
              1,
              "#f0f921"
             ]
            ],
            "type": "surface"
           }
          ],
          "table": [
           {
            "cells": {
             "fill": {
              "color": "#EBF0F8"
             },
             "line": {
              "color": "white"
             }
            },
            "header": {
             "fill": {
              "color": "#C8D4E3"
             },
             "line": {
              "color": "white"
             }
            },
            "type": "table"
           }
          ]
         },
         "layout": {
          "annotationdefaults": {
           "arrowcolor": "#2a3f5f",
           "arrowhead": 0,
           "arrowwidth": 1
          },
          "autotypenumbers": "strict",
          "coloraxis": {
           "colorbar": {
            "outlinewidth": 0,
            "ticks": ""
           }
          },
          "colorscale": {
           "diverging": [
            [
             0,
             "#8e0152"
            ],
            [
             0.1,
             "#c51b7d"
            ],
            [
             0.2,
             "#de77ae"
            ],
            [
             0.3,
             "#f1b6da"
            ],
            [
             0.4,
             "#fde0ef"
            ],
            [
             0.5,
             "#f7f7f7"
            ],
            [
             0.6,
             "#e6f5d0"
            ],
            [
             0.7,
             "#b8e186"
            ],
            [
             0.8,
             "#7fbc41"
            ],
            [
             0.9,
             "#4d9221"
            ],
            [
             1,
             "#276419"
            ]
           ],
           "sequential": [
            [
             0,
             "#0d0887"
            ],
            [
             0.1111111111111111,
             "#46039f"
            ],
            [
             0.2222222222222222,
             "#7201a8"
            ],
            [
             0.3333333333333333,
             "#9c179e"
            ],
            [
             0.4444444444444444,
             "#bd3786"
            ],
            [
             0.5555555555555556,
             "#d8576b"
            ],
            [
             0.6666666666666666,
             "#ed7953"
            ],
            [
             0.7777777777777778,
             "#fb9f3a"
            ],
            [
             0.8888888888888888,
             "#fdca26"
            ],
            [
             1,
             "#f0f921"
            ]
           ],
           "sequentialminus": [
            [
             0,
             "#0d0887"
            ],
            [
             0.1111111111111111,
             "#46039f"
            ],
            [
             0.2222222222222222,
             "#7201a8"
            ],
            [
             0.3333333333333333,
             "#9c179e"
            ],
            [
             0.4444444444444444,
             "#bd3786"
            ],
            [
             0.5555555555555556,
             "#d8576b"
            ],
            [
             0.6666666666666666,
             "#ed7953"
            ],
            [
             0.7777777777777778,
             "#fb9f3a"
            ],
            [
             0.8888888888888888,
             "#fdca26"
            ],
            [
             1,
             "#f0f921"
            ]
           ]
          },
          "colorway": [
           "#636efa",
           "#EF553B",
           "#00cc96",
           "#ab63fa",
           "#FFA15A",
           "#19d3f3",
           "#FF6692",
           "#B6E880",
           "#FF97FF",
           "#FECB52"
          ],
          "font": {
           "color": "#2a3f5f"
          },
          "geo": {
           "bgcolor": "white",
           "lakecolor": "white",
           "landcolor": "#E5ECF6",
           "showlakes": true,
           "showland": true,
           "subunitcolor": "white"
          },
          "hoverlabel": {
           "align": "left"
          },
          "hovermode": "closest",
          "mapbox": {
           "style": "light"
          },
          "paper_bgcolor": "white",
          "plot_bgcolor": "#E5ECF6",
          "polar": {
           "angularaxis": {
            "gridcolor": "white",
            "linecolor": "white",
            "ticks": ""
           },
           "bgcolor": "#E5ECF6",
           "radialaxis": {
            "gridcolor": "white",
            "linecolor": "white",
            "ticks": ""
           }
          },
          "scene": {
           "xaxis": {
            "backgroundcolor": "#E5ECF6",
            "gridcolor": "white",
            "gridwidth": 2,
            "linecolor": "white",
            "showbackground": true,
            "ticks": "",
            "zerolinecolor": "white"
           },
           "yaxis": {
            "backgroundcolor": "#E5ECF6",
            "gridcolor": "white",
            "gridwidth": 2,
            "linecolor": "white",
            "showbackground": true,
            "ticks": "",
            "zerolinecolor": "white"
           },
           "zaxis": {
            "backgroundcolor": "#E5ECF6",
            "gridcolor": "white",
            "gridwidth": 2,
            "linecolor": "white",
            "showbackground": true,
            "ticks": "",
            "zerolinecolor": "white"
           }
          },
          "shapedefaults": {
           "line": {
            "color": "#2a3f5f"
           }
          },
          "ternary": {
           "aaxis": {
            "gridcolor": "white",
            "linecolor": "white",
            "ticks": ""
           },
           "baxis": {
            "gridcolor": "white",
            "linecolor": "white",
            "ticks": ""
           },
           "bgcolor": "#E5ECF6",
           "caxis": {
            "gridcolor": "white",
            "linecolor": "white",
            "ticks": ""
           }
          },
          "title": {
           "x": 0.05
          },
          "xaxis": {
           "automargin": true,
           "gridcolor": "white",
           "linecolor": "white",
           "ticks": "",
           "title": {
            "standoff": 15
           },
           "zerolinecolor": "white",
           "zerolinewidth": 2
          },
          "yaxis": {
           "automargin": true,
           "gridcolor": "white",
           "linecolor": "white",
           "ticks": "",
           "title": {
            "standoff": 15
           },
           "zerolinecolor": "white",
           "zerolinewidth": 2
          }
         }
        },
        "title": {
         "text": "Log Loss Comparison with Baseline Models"
        },
        "width": 900,
        "xaxis": {
         "anchor": "y",
         "domain": [
          0,
          1
         ],
         "title": {
          "text": "percentage"
         }
        },
        "yaxis": {
         "anchor": "x",
         "domain": [
          0,
          1
         ],
         "scaleanchor": "x",
         "scaleratio": 110.6,
         "tickfont": {
          "color": "black",
          "size": 14
         },
         "tickmode": "array",
         "ticktext": [
          "Keras Neural Network",
          "Random Forest",
          "Logistic Regression"
         ],
         "tickvals": [
          2,
          1,
          0
         ],
         "title": {
          "text": "Model"
         }
        }
       }
      }
     },
     "metadata": {},
     "output_type": "display_data"
    }
   ],
   "source": [
    "df1 = pd.DataFrame(dict(\n",
    "    model=['Logistic Regression', 'Random Forest', 'Keras Neural Network'],\n",
    "    percentage=[10, 9, 6],\n",
    "    custom_labels=[0.3104, 0.3093, 0.2983]\n",
    "))\n",
    "\n",
    "fig = px.funnel(df1, x='percentage', y='model', title=\"Log Loss Comparison with Baseline Models\",\n",
    "                text='custom_labels', color_discrete_sequence=['brown'])\n",
    "fig.update_yaxes(title_text='Model', scaleanchor=\"x\", scaleratio=110.6, tickmode='array', tickvals=[2, 1, 0], ticktext=df['model'][::-1],\n",
    "                 tickfont=dict(color='black', size=14))\n",
    "\n",
    "fig.update_traces(textinfo='text')\n",
    "fig.update_layout(height=400, width=900)\n",
    "fig.show()"
   ]
  },
  {
   "cell_type": "markdown",
   "metadata": {},
   "source": [
    "## <span style=\"font-family:'cursive';\"> Results </span>  "
   ]
  },
  {
   "cell_type": "code",
   "execution_count": 41,
   "metadata": {},
   "outputs": [
    {
     "name": "stdout",
     "output_type": "stream",
     "text": [
      "Percentage of Customers Identified and Prevented from Churning: 70.67%\n",
      "70% of total charges derived from customers who churned: $2004048.83\n"
     ]
    }
   ],
   "source": [
    "from sklearn.metrics import confusion_matrix\n",
    "threshold = 0.5  \n",
    "predicted_labels = (y_pred > threshold).astype(int)\n",
    "confusion_matrix = confusion_matrix(y_test, predicted_labels)\n",
    "tp = confusion_matrix[1][1]  # True Positives\n",
    "fn = confusion_matrix[1][0]  # False Negatives\n",
    "# Calculate True Positive Rate (Sensitivity)\n",
    "true_positive_rate = tp / (tp + fn)\n",
    "# percentage of customers identified by the model as potential churners and were indeed churners\n",
    "percentage_identified_and_prevented = true_positive_rate * 100\n",
    "\n",
    "churned_customers = df[df['Churn'] == 'Yes']\n",
    "total_charges_churned = churned_customers['TotalCharges'].sum()\n",
    "seventy_percent_of_total_charges = 0.7 * total_charges_churned\n",
    "\n",
    "print(f\"Percentage of Customers Identified and Prevented from Churning: {percentage_identified_and_prevented:.2f}%\")\n",
    "# print(f\"Total charges derived from customers who churned: ${total_charges_churned:.2f}\")\n",
    "print(f\"70% of total charges derived from customers who churned: ${seventy_percent_of_total_charges:.2f}\")"
   ]
  },
  {
   "cell_type": "markdown",
   "metadata": {},
   "source": [
    "- <span style=\"color:yellow\">70%</span> of customers might have been retained, saving approximately <span style=\"color:yellow\">$2,004,000</span> in potential revenue\n",
    "\n",
    "- Critical Customer Satisfaction Metric - Number of technical support tickets"
   ]
  },
  {
   "cell_type": "markdown",
   "metadata": {},
   "source": [
    "## <span style=\"font-family:'cursive';\"> Conclusion </span>  \n",
    "\n",
    "Customer churn predictive models represents a valuable tool for mitigating churn and enhancing our customer relationship management efforts.\n",
    "\n",
    "Future work could explore the integration of additional external data sources and refining the model further."
   ]
  }
 ],
 "metadata": {
  "kernelspec": {
   "display_name": "Python 3 (ipykernel)",
   "language": "python",
   "name": "python3"
  },
  "language_info": {
   "codemirror_mode": {
    "name": "ipython",
    "version": 3
   },
   "file_extension": ".py",
   "mimetype": "text/x-python",
   "name": "python",
   "nbconvert_exporter": "python",
   "pygments_lexer": "ipython3",
   "version": "3.11.4"
  },
  "widgets": {
   "state": {},
   "version": "1.1.2"
  }
 },
 "nbformat": 4,
 "nbformat_minor": 4
}
